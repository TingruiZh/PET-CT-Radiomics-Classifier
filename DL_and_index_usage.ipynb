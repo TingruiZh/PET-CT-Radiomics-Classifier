{
 "cells": [
  {
   "cell_type": "markdown",
   "id": "0c1dfe3a",
   "metadata": {},
   "source": [
    "# Example of using latest DL model"
   ]
  },
  {
   "cell_type": "markdown",
   "id": "5d12e008",
   "metadata": {},
   "source": [
    "## References\n",
    "\n",
    "- [TICL (Tabular In-Context Learning) - Microsoft](https://github.com/microsoft/ticl)\n",
    "- [TabPFN - PriorLabs](https://github.com/PriorLabs/tabpfn)\n"
   ]
  },
  {
   "cell_type": "markdown",
   "id": "e3e152b7",
   "metadata": {},
   "source": [
    "## Use of MotherNet"
   ]
  },
  {
   "cell_type": "code",
   "execution_count": null,
   "id": "34b8bc12",
   "metadata": {},
   "outputs": [],
   "source": [
    "from ticl.prediction import MotherNetClassifier\n",
    "    clf = MotherNetClassifier(device='cpu')\n",
    "    clf.fit(X_train_resampled, y_train_resampled)"
   ]
  },
  {
   "cell_type": "markdown",
   "id": "55ae48ec",
   "metadata": {},
   "source": [
    "## Use of TabPFNv2"
   ]
  },
  {
   "cell_type": "code",
   "execution_count": null,
   "id": "4c02be09",
   "metadata": {},
   "outputs": [],
   "source": [
    "from tabpfn import TabPFNClassifier\n",
    "    clf = TabPFNClassifier(device='cuda' if torch.cuda.is_available() else 'cpu')\n",
    "    clf.fit(X_train, y_train)"
   ]
  },
  {
   "cell_type": "markdown",
   "id": "1849f702",
   "metadata": {},
   "source": [
    "## Use of GAMformer"
   ]
  },
  {
   "cell_type": "code",
   "execution_count": null,
   "id": "4a194f5b",
   "metadata": {},
   "outputs": [],
   "source": [
    "from ticl.prediction.gamformer import GAMformerClassifier\n",
    "    gam = GAMformerClassifier(device='cpu')\n",
    "    gam.fit(X_train_tensor, y_train_tensor)"
   ]
  },
  {
   "cell_type": "markdown",
   "id": "d18e4161",
   "metadata": {},
   "source": [
    "## Use of Tabflex"
   ]
  },
  {
   "cell_type": "code",
   "execution_count": null,
   "id": "a4d50ab8",
   "metadata": {},
   "outputs": [],
   "source": [
    "from ticl.prediction.tabflex import TabFlex\n",
    "    tabflex = TabFlex()\n",
    "    tabflex.fit(X_train, y_train)"
   ]
  },
  {
   "cell_type": "markdown",
   "id": "f912465c",
   "metadata": {},
   "source": [
    "# Example of Calculaing all index"
   ]
  },
  {
   "cell_type": "code",
   "execution_count": null,
   "id": "dbcea026",
   "metadata": {},
   "outputs": [],
   "source": [
    "    precision_test = precision_score(y_test_tensor, y_pred_test, zero_division=0)\n",
    "    recall_test = recall_score(y_test_tensor, y_pred_test, zero_division=0)\n",
    "    f1_test = f1_score(y_test_tensor, y_pred_test, zero_division=0)\n",
    "    acc_test = accuracy_score(y_test_tensor, y_pred_test)\n",
    "    auc_test = roc_auc_score(y_test_tensor, y_pred_test)"
   ]
  },
  {
   "cell_type": "markdown",
   "id": "d33eceab",
   "metadata": {},
   "source": [
    "- **Precision**:\n",
    "\n",
    "  $$\n",
    "  Precision = \\frac{TP}{TP + FP}\n",
    "  $$\n",
    "\n",
    "- **Recall**:\n",
    "\n",
    "  $$\n",
    "  Recall = \\frac{TP}{TP + FN}\n",
    "  $$\n",
    "\n",
    "- **F1-Score**:\n",
    "\n",
    "  $$\n",
    "  F1 = 2 \\times \\frac{Precision \\times Recall}{Precision + Recall}\n",
    "  $$\n",
    "\n",
    "- **Accuracy**:\n",
    "\n",
    "  $$\n",
    "  Accuracy = \\frac{TP + TN}{TP + TN + FP + FN}\n",
    "  $$\n",
    "\n",
    "- **AUC (Area Under the Curve)**:\n",
    "\n",
    "  AUC is calculated from the ROC curve, which plots the True Positive Rate (TPR) against the False Positive Rate (FPR). It can be expressed as:\n",
    "\n",
    "  $$\n",
    "  AUC = \\int_{0}^{1} TPR(FPR) \\, d(FPR)\n",
    "  $$\n",
    "\n",
    "  where:\n",
    "  - TPR = Recall = $\\frac{TP}{TP + FN}$\n",
    "  - FPR = $\\frac{FP}{FP + TN}$\n"
   ]
  }
 ],
 "metadata": {
  "language_info": {
   "name": "python"
  }
 },
 "nbformat": 4,
 "nbformat_minor": 5
}
