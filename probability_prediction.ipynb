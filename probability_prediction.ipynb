{
 "cells": [
  {
   "cell_type": "code",
   "execution_count": 5,
   "id": "6bcbe90f",
   "metadata": {},
   "outputs": [],
   "source": [
    "import os\n",
    "import pandas as pd\n",
    "from sklearn.preprocessing import StandardScaler\n",
    "from sklearn.ensemble import (\n",
    "    RandomForestClassifier, GradientBoostingClassifier, AdaBoostClassifier,\n",
    "    VotingClassifier\n",
    ")\n",
    "from sklearn.linear_model import LogisticRegression\n",
    "from sklearn.svm import SVC\n",
    "from sklearn.tree import DecisionTreeClassifier\n",
    "from sklearn.neighbors import KNeighborsClassifier\n",
    "from sklearn.naive_bayes import GaussianNB\n",
    "from xgboost import XGBClassifier"
   ]
  },
  {
   "cell_type": "code",
   "execution_count": 6,
   "id": "b66dd00f",
   "metadata": {},
   "outputs": [],
   "source": [
    "\n",
    "# === Paths ===\n",
    "file_path = r\"D:/research/cd-ml/H/converted_nii/radiomics_features_all.xlsx\"\n",
    "output_path = r\"D:/research/cd-ml/H/converted_nii/fusion_patient_probabilities.xlsx\"\n",
    "\n",
    "# === Selected Features ===\n",
    "selected_features = [\n",
    "    \"log-sigma-1-0-mm-3D_firstorder_Uniformity\",\n",
    "    \"log-sigma-1-0-mm-3D_glcm_Idm\",\n",
    "    \"log-sigma-1-0-mm-3D_glcm_MaximumProbability\",\n",
    "    \"log-sigma-1-0-mm-3D_glrlm_GrayLevelNonUniformityNormalized\",\n",
    "    \"log-sigma-1-0-mm-3D_glrlm_RunLengthNonUniformityNormalized\",\n",
    "    \"log-sigma-1-0-mm-3D_glrlm_ShortRunEmphasis\",\n",
    "    \"log-sigma-1-0-mm-3D_glszm_SmallAreaEmphasis\",\n",
    "    \"log-sigma-3-0-mm-3D_glszm_SmallAreaEmphasis\",\n",
    "    \"wavelet-LL_glszm_SizeZoneNonUniformityNormalized\",\n",
    "    \"wavelet-LL_glszm_SmallAreaEmphasis\"\n",
    "]\n",
    "\n",
    "# === Models for Fusion ===\n",
    "base_models = [\n",
    "    (\"RF\", RandomForestClassifier(n_estimators=100, max_depth=5, min_samples_split=5, min_samples_leaf=4, random_state=20)),\n",
    "    (\"LR\", LogisticRegression(max_iter=2000, C=0.5, penalty='l2')),\n",
    "    (\"SVM\", SVC(C=0.5, kernel='rbf', gamma='scale', probability=True)),\n",
    "    (\"DT\", DecisionTreeClassifier(max_depth=4, min_samples_leaf=5, random_state=42)),\n",
    "    (\"KNN\", KNeighborsClassifier(n_neighbors=7, weights='distance')),\n",
    "    (\"NB\", GaussianNB()),\n",
    "    (\"GBDT\", GradientBoostingClassifier(n_estimators=100, learning_rate=0.1, max_depth=3, subsample=0.8, random_state=20)),\n",
    "    (\"AdaBoost\", AdaBoostClassifier(n_estimators=100, learning_rate=0.8, random_state=20)),\n",
    "    (\"XGBoost\", XGBClassifier(use_label_encoder=False, eval_metric=\"logloss\", n_estimators=100, max_depth=3,\n",
    "                              learning_rate=0.1, subsample=0.8, colsample_bytree=0.8, reg_alpha=0.5, reg_lambda=1.0))\n",
    "]"
   ]
  },
  {
   "cell_type": "code",
   "execution_count": 7,
   "id": "aaace73e",
   "metadata": {},
   "outputs": [],
   "source": [
    "\n",
    "# === Load Excel Sheets ===\n",
    "df_pet = pd.read_excel(file_path, sheet_name=\"PET\")\n",
    "df_ct = pd.read_excel(file_path, sheet_name=\"CT\")\n",
    "\n",
    "# === Task list: (sheet name, dataframe, label name, label column index) ===\n",
    "tasks = [\n",
    "    (\"PET\", df_pet, \"progression\", -2),\n",
    "    (\"PET\", df_pet, \"death\", -1),\n",
    "    (\"CT\", df_ct, \"progression\", -2),\n",
    "    (\"CT\", df_ct, \"death\", -1),\n",
    "]"
   ]
  },
  {
   "cell_type": "code",
   "execution_count": 8,
   "id": "d7528436",
   "metadata": {},
   "outputs": [
    {
     "name": "stdout",
     "output_type": "stream",
     "text": [
      "🔍 Processing: PET - progression\n"
     ]
    },
    {
     "name": "stderr",
     "output_type": "stream",
     "text": [
      "c:\\Users\\24088\\.conda\\envs\\ml_env\\lib\\site-packages\\xgboost\\core.py:158: UserWarning: [21:05:25] WARNING: C:\\buildkite-agent\\builds\\buildkite-windows-cpu-autoscaling-group-i-08cbc0333d8d4aae1-1\\xgboost\\xgboost-ci-windows\\src\\learner.cc:740: \n",
      "Parameters: { \"use_label_encoder\" } are not used.\n",
      "\n",
      "  warnings.warn(smsg, UserWarning)\n"
     ]
    },
    {
     "name": "stdout",
     "output_type": "stream",
     "text": [
      "🔍 Processing: PET - death\n"
     ]
    },
    {
     "name": "stderr",
     "output_type": "stream",
     "text": [
      "c:\\Users\\24088\\.conda\\envs\\ml_env\\lib\\site-packages\\xgboost\\core.py:158: UserWarning: [21:05:26] WARNING: C:\\buildkite-agent\\builds\\buildkite-windows-cpu-autoscaling-group-i-08cbc0333d8d4aae1-1\\xgboost\\xgboost-ci-windows\\src\\learner.cc:740: \n",
      "Parameters: { \"use_label_encoder\" } are not used.\n",
      "\n",
      "  warnings.warn(smsg, UserWarning)\n"
     ]
    },
    {
     "name": "stdout",
     "output_type": "stream",
     "text": [
      "🔍 Processing: CT - progression\n"
     ]
    },
    {
     "name": "stderr",
     "output_type": "stream",
     "text": [
      "c:\\Users\\24088\\.conda\\envs\\ml_env\\lib\\site-packages\\xgboost\\core.py:158: UserWarning: [21:05:27] WARNING: C:\\buildkite-agent\\builds\\buildkite-windows-cpu-autoscaling-group-i-08cbc0333d8d4aae1-1\\xgboost\\xgboost-ci-windows\\src\\learner.cc:740: \n",
      "Parameters: { \"use_label_encoder\" } are not used.\n",
      "\n",
      "  warnings.warn(smsg, UserWarning)\n"
     ]
    },
    {
     "name": "stdout",
     "output_type": "stream",
     "text": [
      "🔍 Processing: CT - death\n"
     ]
    },
    {
     "name": "stderr",
     "output_type": "stream",
     "text": [
      "c:\\Users\\24088\\.conda\\envs\\ml_env\\lib\\site-packages\\xgboost\\core.py:158: UserWarning: [21:05:27] WARNING: C:\\buildkite-agent\\builds\\buildkite-windows-cpu-autoscaling-group-i-08cbc0333d8d4aae1-1\\xgboost\\xgboost-ci-windows\\src\\learner.cc:740: \n",
      "Parameters: { \"use_label_encoder\" } are not used.\n",
      "\n",
      "  warnings.warn(smsg, UserWarning)\n"
     ]
    },
    {
     "name": "stdout",
     "output_type": "stream",
     "text": [
      "\n",
      "✅ Fusion probabilities saved to: D:/research/cd-ml/H/converted_nii/fusion_patient_probabilities.xlsx\n"
     ]
    }
   ],
   "source": [
    "\n",
    "# === Collect all results ===\n",
    "all_results = []\n",
    "\n",
    "for dataset_name, df, label_name, label_col_idx in tasks:\n",
    "    print(f\"🔍 Processing: {dataset_name} - {label_name}\")\n",
    "    \n",
    "    # Extract features, label, and patient column (third from last)\n",
    "    X = df[selected_features].copy()\n",
    "    y = df.iloc[:, label_col_idx]\n",
    "    patient_col = df.iloc[:, -3]  # third from the end\n",
    "\n",
    "    # Filter valid data\n",
    "    valid_idx = y.notnull() & X.notnull().all(axis=1)\n",
    "    X = X[valid_idx]\n",
    "    y = y[valid_idx]\n",
    "    patients = patient_col[valid_idx].reset_index(drop=True)\n",
    "\n",
    "    # Normalize\n",
    "    scaler = StandardScaler()\n",
    "    X_scaled = scaler.fit_transform(X)\n",
    "\n",
    "    # Train fusion model\n",
    "    fusion_model = VotingClassifier(estimators=base_models, voting=\"soft\")\n",
    "    fusion_model.fit(X_scaled, y)\n",
    "    probs = fusion_model.predict_proba(X_scaled)[:, 1]  # probability of positive class\n",
    "\n",
    "    # Save result\n",
    "    result = pd.DataFrame({\n",
    "        \"patient\": patients,\n",
    "        \"dataset\": dataset_name,\n",
    "        \"label\": label_name,\n",
    "        \"true_label\": y.values,\n",
    "        \"fusion_probability\": probs\n",
    "    })\n",
    "    all_results.append(result)\n",
    "\n",
    "# === Write final output ===\n",
    "final_df = pd.concat(all_results, ignore_index=True)\n",
    "final_df.to_excel(output_path, index=False)\n",
    "print(f\"\\n✅ Fusion probabilities saved to: {output_path}\")\n"
   ]
  }
 ],
 "metadata": {
  "kernelspec": {
   "display_name": "ml_env",
   "language": "python",
   "name": "python3"
  },
  "language_info": {
   "codemirror_mode": {
    "name": "ipython",
    "version": 3
   },
   "file_extension": ".py",
   "mimetype": "text/x-python",
   "name": "python",
   "nbconvert_exporter": "python",
   "pygments_lexer": "ipython3",
   "version": "3.9.21"
  }
 },
 "nbformat": 4,
 "nbformat_minor": 5
}
